{
  "nbformat": 4,
  "nbformat_minor": 0,
  "metadata": {
    "colab": {
      "provenance": [],
      "authorship_tag": "ABX9TyNj0DiSkZQTq6/zCKsGdWT9",
      "include_colab_link": true
    },
    "kernelspec": {
      "name": "python3",
      "display_name": "Python 3"
    },
    "language_info": {
      "name": "python"
    }
  },
  "cells": [
    {
      "cell_type": "markdown",
      "metadata": {
        "id": "view-in-github",
        "colab_type": "text"
      },
      "source": [
        "<a href=\"https://colab.research.google.com/github/202145225/aipython/blob/main/Untitled3.ipynb\" target=\"_parent\"><img src=\"https://colab.research.google.com/assets/colab-badge.svg\" alt=\"Open In Colab\"/></a>"
      ]
    },
    {
      "cell_type": "markdown",
      "source": [
        "2024-01-02\n",
        "기본 입출력 예제 연습"
      ],
      "metadata": {
        "id": "XZVC5lK7F1YR"
      }
    },
    {
      "cell_type": "code",
      "source": [
        "# 변수 선언 및 초기화\n",
        "number = 10\n",
        "\n",
        "# 변수 값 변경\n",
        "number = 20\n",
        "\n",
        "# 변수를 사용한 계산\n",
        "result = number * 2\n",
        "\n",
        "# 변수 값 출력\n",
        "print(result)\n"
      ],
      "metadata": {
        "colab": {
          "base_uri": "https://localhost:8080/"
        },
        "id": "YUNq7pv0GHlp",
        "outputId": "ba035637-c397-4fe8-87be-5fff41702524"
      },
      "execution_count": 31,
      "outputs": [
        {
          "output_type": "stream",
          "name": "stdout",
          "text": [
            "40\n"
          ]
        }
      ]
    },
    {
      "cell_type": "code",
      "source": [
        "# 사용자로부터 나이 입력 받기\n",
        "a = input(\"당신의 나이는? \")\n",
        "\n",
        "# 입력받은 나이 출력\n",
        "print(a, \"살 이군요.\")\n",
        "\n",
        "# 입력된 나이의 데이터 타입 출력\n",
        "print(type(a))\n",
        "\n",
        "# 다시 사용자로부터 나이 입력 받기\n",
        "a = input(\"당신의 나이는? \")\n",
        "\n",
        "# 입력받은 나이 출력\n",
        "print(a, \"살 이군요.\")\n",
        "\n",
        "# 다음 해에 몇 살이 될지 예측하여 출력\n",
        "a = int(a)  # 문자열을 정수로 변환\n",
        "print(\"내년엔\", a + 1, \"살이 되네요\")\n",
        "\n",
        "# 입력된 나이의 데이터 타입 출력\n",
        "print(type(a))\n"
      ],
      "metadata": {
        "colab": {
          "base_uri": "https://localhost:8080/"
        },
        "id": "A5hIfXxAGMQR",
        "outputId": "438cdea0-f1fc-42b9-ae76-0e770da7d574"
      },
      "execution_count": 33,
      "outputs": [
        {
          "output_type": "stream",
          "name": "stdout",
          "text": [
            "당신의 나이는? 23\n",
            "23 살 이군요.\n",
            "<class 'str'>\n",
            "당신의 나이는? 23\n",
            "23 살 이군요.\n",
            "내년엔 24 살이 되네요\n",
            "<class 'int'>\n"
          ]
        }
      ]
    },
    {
      "cell_type": "code",
      "source": [
        "a = int(input(\"당신의 나이는?\"))\n",
        "msg = str(a) + \"살 이군요.\"  # 나이를 문자열로 변환하여 연결\n",
        "print(msg)\n",
        "print(\"내년엔\", a + 1, \"살이 되네요\")\n",
        "print(type(a))\n"
      ],
      "metadata": {
        "colab": {
          "base_uri": "https://localhost:8080/"
        },
        "id": "9dpxTU3JGXX6",
        "outputId": "464544fd-37e9-4df1-e511-5609d2a93f40"
      },
      "execution_count": 34,
      "outputs": [
        {
          "output_type": "stream",
          "name": "stdout",
          "text": [
            "당신의 나이는?23\n",
            "23살 이군요.\n",
            "내년엔 24 살이 되네요\n",
            "<class 'int'>\n"
          ]
        }
      ]
    },
    {
      "cell_type": "code",
      "execution_count": 4,
      "metadata": {
        "colab": {
          "base_uri": "https://localhost:8080/"
        },
        "id": "TqQs0uJ4CTzR",
        "outputId": "471fc121-8428-429e-ba87-96e876c188d0"
      },
      "outputs": [
        {
          "output_type": "stream",
          "name": "stdout",
          "text": [
            "이름은 홍길동이고 나이는 20.50입니다.\n"
          ]
        }
      ],
      "source": [
        "name = \"홍길동\"\n",
        "age = 20.5\n",
        "\n",
        "# 이름은 홍길동이고 나이는 20.50입니다.\n",
        "\n",
        "print(\"이름은 {}이고 나이는 {:.2f}입니다.\".format(name, age))"
      ]
    },
    {
      "cell_type": "code",
      "source": [
        "#2-6 (variable_demo1.py)\n",
        "#하나의 변수를 활용하는 코드입니다.\n",
        "Lab = 105\n",
        "print('우리가 수업하는 실습실:')\n",
        "print(Lab)\n"
      ],
      "metadata": {
        "colab": {
          "base_uri": "https://localhost:8080/"
        },
        "id": "uV8cTIb-Cc05",
        "outputId": "3abc820a-377a-4ef6-9e39-15a36edad7bf"
      },
      "execution_count": 6,
      "outputs": [
        {
          "output_type": "stream",
          "name": "stdout",
          "text": [
            "우리가 수업하는 실습실:\n",
            "105\n"
          ]
        }
      ]
    },
    {
      "cell_type": "code",
      "source": [
        "#2-7 (variable_demo2.py)\n",
        "#하나의 변수를 활용하는 코드입니다.\n",
        "Lab = 105\n",
        "print('우리가 수업하는 실습실: ', Lab)"
      ],
      "metadata": {
        "colab": {
          "base_uri": "https://localhost:8080/"
        },
        "id": "Se_gTPtxCnSJ",
        "outputId": "1c324821-e14e-4192-ff0f-471660cf78ba"
      },
      "execution_count": 7,
      "outputs": [
        {
          "output_type": "stream",
          "name": "stdout",
          "text": [
            "우리가 수업하는 실습실:  105\n"
          ]
        }
      ]
    },
    {
      "cell_type": "code",
      "source": [
        "#2-8 (variable_demo3.py)\n",
        "# 변수 두 개를 생성하고 값을 할당\n",
        "my_id = 202145225\n",
        "grade = 3\n",
        "# 두 개의 변수에 할당된 값을 출력\n",
        "print('나의 학번: ')\n",
        "print(my_id)\n",
        "print('학년: ')\n",
        "print(grade)"
      ],
      "metadata": {
        "colab": {
          "base_uri": "https://localhost:8080/"
        },
        "id": "AqEKFyTYCtn4",
        "outputId": "f1e1f247-099d-4b0f-e5d8-cbc0f719e230"
      },
      "execution_count": 9,
      "outputs": [
        {
          "output_type": "stream",
          "name": "stdout",
          "text": [
            "나의 학번: \n",
            "202145225\n",
            "학년: \n",
            "3\n"
          ]
        }
      ]
    },
    {
      "cell_type": "code",
      "source": [
        "#2-9 (variable_demo4.py)\n",
        "# 변수에 값을 할당하고 출력하는 예제입니다. # dollars 변수에 값을 할당해봅시다.\n",
        "dollars = 99999999999999999\n",
        "print('I have', dollars, 'in my account.')\n",
        "# dollars 변수에 새로운 값을 할당해봅시다.\n",
        "dollars = 1\n",
        "print('But now I have', dollars, 'in my account!')"
      ],
      "metadata": {
        "colab": {
          "base_uri": "https://localhost:8080/"
        },
        "id": "zz0bIrUHC18W",
        "outputId": "5c098c48-7295-4b0e-9d03-8999554ac030"
      },
      "execution_count": 12,
      "outputs": [
        {
          "output_type": "stream",
          "name": "stdout",
          "text": [
            "I have 99999999999999999 in my account.\n",
            "But now I have 1 in my account!\n"
          ]
        }
      ]
    },
    {
      "cell_type": "code",
      "source": [
        "#2-10 (string_variable.py)\n",
        "# 두 개의 변수를 생성하고 문자열을 할당합니다.\n",
        "department = '원예생명과학과'\n",
        "name = '최유진'\n",
        "# 각 변수에 할당된 문자열 값을 출력해보자.\n",
        "print(department, name)"
      ],
      "metadata": {
        "colab": {
          "base_uri": "https://localhost:8080/"
        },
        "id": "YUjrLKAxDAAY",
        "outputId": "7a49667c-cf3e-46f1-905f-ea2332bf4ffd"
      },
      "execution_count": 13,
      "outputs": [
        {
          "output_type": "stream",
          "name": "stdout",
          "text": [
            "원예생명과학과 최유진\n"
          ]
        }
      ]
    },
    {
      "cell_type": "code",
      "source": [
        "#2-11 (string_input.py)\n",
        "# 학과명을 입력받습니다.\n",
        "department = input('학과명: ')\n",
        "# 여러분의 이름을 입력받습니다.\n",
        "name = input('성명: ')\n",
        "# 두 변수의 값을 출력합니다.\n",
        "print('안녕하세요', department, name)"
      ],
      "metadata": {
        "colab": {
          "base_uri": "https://localhost:8080/"
        },
        "id": "TzqX6o8BDE5o",
        "outputId": "60bb72ff-fb43-42a1-e554-acf75d7f9a36"
      },
      "execution_count": 14,
      "outputs": [
        {
          "output_type": "stream",
          "name": "stdout",
          "text": [
            "학과명: 원예생명과학과\n",
            "성명: 최유진\n",
            "안녕하세요 원예생명과학과 최유진\n"
          ]
        }
      ]
    },
    {
      "cell_type": "code",
      "source": [
        "#2-12 (input.py)\n",
        "# 여러분의 이름, 나이, 통학시간 정보를 입력받습니다.\n",
        "name = input('당신의 이름은 무엇입니까? ')\n",
        "age = int(input('나이는 어떻게 되시나요? '))\n",
        "attending_time = float(input('통학시간은 얼마나 걸립니까? '))\n",
        "\n",
        "# 변수에 입력된 데이터를 출력해봅시다.\n",
        "print('입력 정보는 다음과 같습니다.')\n",
        "print('이름:', name)\n",
        "print('나이:', age)\n",
        "print('통학시간:', attending_time)"
      ],
      "metadata": {
        "colab": {
          "base_uri": "https://localhost:8080/"
        },
        "id": "s1YDYr0WDWiY",
        "outputId": "49945d54-0336-4b69-97a5-f1cd97d57f29"
      },
      "execution_count": 16,
      "outputs": [
        {
          "output_type": "stream",
          "name": "stdout",
          "text": [
            "당신의 이름은 무엇입니까? 유잔\n",
            "나이는 어떻게 되시나요? 23\n",
            "통학시간은 얼마나 걸립니까? 4\n",
            "입력 정보는 다음과 같습니다.\n",
            "이름: 유잔\n",
            "나이: 23\n",
            "통학시간: 4.0\n"
          ]
        }
      ]
    },
    {
      "cell_type": "code",
      "source": [
        "#2-13 (simple_math.py)\n",
        "# salary 변수에 급여를 할당합니다.\n",
        "salary = 9999999\n",
        "# bonus 변수에 보너스를 할당합니다.\n",
        "bonus = 2\n",
        "# 급여와 보너스를 더하여 총 급여를 구해봅니다.\n",
        "# 총 급여를 pay 변수에 할당합니다.\n",
        "pay = salary + bonus\n",
        "# 총 급여를 출력합니다.\n",
        "print('총 급여: ', pay)\n"
      ],
      "metadata": {
        "colab": {
          "base_uri": "https://localhost:8080/"
        },
        "id": "87MDJeLhDken",
        "outputId": "26cacd0b-705e-42e3-8b20-01e386b08c55"
      },
      "execution_count": 18,
      "outputs": [
        {
          "output_type": "stream",
          "name": "stdout",
          "text": [
            "총 급여:  10000001\n"
          ]
        }
      ]
    },
    {
      "cell_type": "code",
      "source": [
        "#2-14 (sale_price.py)\n",
        "# 본 예제에서는 원가에 할인율을 적용하여 할인가격을 계산해보자.\n",
        "# original price 변수에 원가를 입력받는다.\n",
        "original_price = float(input(\"제품의 원가를 입력해주세요: \"))\n",
        "# 원가에 할인율 20%를 적용하여 할인가를 계산하여 discount 변수에 할당한다.\n",
        "discount = original_price * 0.2\n",
        "# 원가에 할인가가 적용된 제품 가격을 계산하여 sale_price 변수에 할당한다.\n",
        "sale_price = original_price - discount\n",
        "# 할인가가 적용된 제품 가격을 출력한다.\n",
        "print('할인가격: ', sale_price)\n"
      ],
      "metadata": {
        "colab": {
          "base_uri": "https://localhost:8080/"
        },
        "id": "1JATVEOxDvmg",
        "outputId": "f56f8a2d-a016-4100-c11f-e1dec38b7b86"
      },
      "execution_count": 19,
      "outputs": [
        {
          "output_type": "stream",
          "name": "stdout",
          "text": [
            "제품의 원가를 입력해주세요: 600\n",
            "할인가격:  480.0\n"
          ]
        }
      ]
    },
    {
      "cell_type": "code",
      "source": [
        "#2-15 (test_score_average.py)\n",
        "# 세 과목의 평가 점수를 입력받고\n",
        "# test1, test2, test3 변수에 각각 할당한다.\n",
        "test1 = float(input('첫 번째 과목 점수를 입력해주세요: '))\n",
        "test2 = float(input('두 번째 과목 점수를 입력해주세요: '))\n",
        "test3 = float(input('세 번째 과목 점수를 입력해주세요: '))\n",
        "# 각 과목의 점수 평균을 계산하고\n",
        "# 그 결과 값을 average 변수에 할당한다.\n",
        "average = (test1 + test2 + test3) / 3.0\n",
        "# 점수 평균을 출력한다.\n",
        "print('3 과목의 평균 점수: ', average)"
      ],
      "metadata": {
        "colab": {
          "base_uri": "https://localhost:8080/"
        },
        "id": "jw5TgKQIDvZn",
        "outputId": "dba242d2-5fac-4e75-cf81-c9534d079a0c"
      },
      "execution_count": 20,
      "outputs": [
        {
          "output_type": "stream",
          "name": "stdout",
          "text": [
            "첫 번째 과목 점수를 입력해주세요: 40\n",
            "두 번째 과목 점수를 입력해주세요: 65\n",
            "세 번째 과목 점수를 입력해주세요: 76\n",
            "3 과목의 평균 점수:  60.333333333333336\n"
          ]
        }
      ]
    },
    {
      "cell_type": "code",
      "source": [
        "#2-16 (time_converter.py)\n",
        "# 본 예제는 초를 입력받아 시, 분, 초로 변환하는 프로그램이다.\n",
        "# 초 값을 입력받아 total_seconds 변수에 할당한다.\n",
        "total_seconds = float(input('시간 값을 초 단위로 입력해주세요: '))\n",
        "# 시간을 계산하여 hours 변수에 할당한다.\n",
        "hours = total_seconds // 3600\n",
        "# 분을 계산하여 minutes 변수에 할당한다.\n",
        "minutes = (total_seconds // 60) % 60\n",
        "# 초의 나머지 값을 seconds 변수에 할당한다.\n",
        "seconds = total_seconds % 60\n",
        "# 시, 분, 초 값을 출력한다.\n",
        "print('시 분 초는 다음과 같습니다.')\n",
        "print('시: ', hours)\n",
        "print('분: ', minutes)\n",
        "print('초: ', seconds)\n"
      ],
      "metadata": {
        "colab": {
          "base_uri": "https://localhost:8080/"
        },
        "id": "EollG_58DvVH",
        "outputId": "0ea62054-dd85-4cd3-b705-ab89a3daba95"
      },
      "execution_count": 21,
      "outputs": [
        {
          "output_type": "stream",
          "name": "stdout",
          "text": [
            "시간 값을 초 단위로 입력해주세요: 50000\n",
            "시 분 초는 다음과 같습니다.\n",
            "시:  13.0\n",
            "분:  53.0\n",
            "초:  20.0\n"
          ]
        }
      ]
    },
    {
      "cell_type": "code",
      "source": [
        "#2-17 (future_value.py)\n",
        "# 본 예제는 목표액을 특정 이율로 얻고자 할 경우 매년 적립해야할 금액을 계산해보자.\n",
        "# 목표액을 입력받고 future_value 변수에 할당한다.\n",
        "future_value = float(input('목표 금액을 입력해주세요: '))\n",
        "# 연간 이율을 입력받고 rate 변수에 할당한다.\n",
        "rate = float(input('연간 이율을 입력해주세요: '))\n",
        "# 적립 기간을 입력받고 years 변수에 할당한다.\n",
        "years = int(input('저축 기간을 연 단위로 입력해주세요: '))\n",
        "# 특정 기간동안 적립해야할 금액을 계산하여 present_value 변수에 할당한다.\n",
        "present_value = future_value / (1.0 + rate)**years\n",
        "# 적립 금액을 출력한다.\n",
        "print('적립 금액: ', present_value)\n"
      ],
      "metadata": {
        "colab": {
          "base_uri": "https://localhost:8080/"
        },
        "id": "dP2nLk2uEKo9",
        "outputId": "3b954f70-cbb4-49ee-ed09-9900392d94b8"
      },
      "execution_count": 23,
      "outputs": [
        {
          "output_type": "stream",
          "name": "stdout",
          "text": [
            "목표 금액을 입력해주세요: 50000000\n",
            "연간 이율을 입력해주세요: 8\n",
            "저축 기간을 연 단위로 입력해주세요: 2\n",
            "적립 금액:  617283.9506172839\n"
          ]
        }
      ]
    },
    {
      "cell_type": "code",
      "source": [
        "#2-18 (separator.py)\n",
        "# print() 함수에서 쉼표로 데이터를 구분하여 출력할 때\n",
        "# 자동적으로 분리되는 빈 칸을 sep 옵션으로 제어할 수 있다.\n",
        "print('a','b','c')\n",
        "print('a','b','c',sep='')\n",
        "print('a','b','c',sep='***')"
      ],
      "metadata": {
        "colab": {
          "base_uri": "https://localhost:8080/"
        },
        "id": "McAEFStbEiYh",
        "outputId": "63e0bb6d-a609-4167-9230-83d383025904"
      },
      "execution_count": 24,
      "outputs": [
        {
          "output_type": "stream",
          "name": "stdout",
          "text": [
            "a b c\n",
            "abc\n",
            "a***b***c\n"
          ]
        }
      ]
    },
    {
      "cell_type": "code",
      "source": [
        "#2-19 (end.py)\n",
        "# print() 함수를 여러 번 사용할 경우, 각 print() 함수가 수행된 후에는\n",
        "# 자동적으로 줄바꿈이 일어난다. 이는 커서가 자동으로 내려가기 때문인데\n",
        "# 커서를 줄바꿈시키지 않고 바로 옆에 놓고 같은 줄에 여러 print() 함수의 내용을\n",
        "# 나타내고자 할 때 end 옵션을 사용할 수 있다.\n",
        "print('a')\n",
        "print('b')\n",
        "print('c', end='')\n",
        "print('d', end='')\n",
        "print('e', end='***')\n",
        "print('f')"
      ],
      "metadata": {
        "colab": {
          "base_uri": "https://localhost:8080/"
        },
        "id": "VtbbU3q9EnqZ",
        "outputId": "5c47f1b5-6abd-477f-81e0-4e4c3cf38042"
      },
      "execution_count": 26,
      "outputs": [
        {
          "output_type": "stream",
          "name": "stdout",
          "text": [
            "a\n",
            "b\n",
            "cde***f\n"
          ]
        }
      ]
    },
    {
      "cell_type": "code",
      "source": [
        "#2-20 (no_forrmatting.py)\n",
        "# 본 예제는 부동 소수점이 출력되는 연산을 수행해본다.\n",
        "# 소수점 길이를 제어하지 않고 결과 값을 출력한다.\n",
        "amount_due = 9000.0\n",
        "monthly_payment = amount_due / 12.0\n",
        "print('월급여: ', monthly_payment)\n"
      ],
      "metadata": {
        "colab": {
          "base_uri": "https://localhost:8080/"
        },
        "id": "i2GXKEqhE5cZ",
        "outputId": "ab4b3d9e-3a91-4633-9000-0b4d9882af13"
      },
      "execution_count": 27,
      "outputs": [
        {
          "output_type": "stream",
          "name": "stdout",
          "text": [
            "월급여:  750.0\n"
          ]
        }
      ]
    },
    {
      "cell_type": "code",
      "source": [
        "#2-21 (formatting.py)\n",
        "# 본 예제에서는 소수점 자리를 제어하여 결과를 출력해보자.\n",
        "amount_due = 960000\n",
        "monthly_payment = amount_due / 12\n",
        "print('월급여: ', format(monthly_payment, '.2f'))"
      ],
      "metadata": {
        "colab": {
          "base_uri": "https://localhost:8080/"
        },
        "id": "u97k2CcsFaU_",
        "outputId": "b2bf6e19-4712-4f20-ee05-de9fc09cbd06"
      },
      "execution_count": 28,
      "outputs": [
        {
          "output_type": "stream",
          "name": "stdout",
          "text": [
            "월급여:  80000.00\n"
          ]
        }
      ]
    },
    {
      "cell_type": "code",
      "source": [
        "#2-22 (dollar_display.py)\n",
        "# 본 예제도 소수점 자리를 제어하여 결과를 출력해보자.\n",
        "monthly_pay = 90000000\n",
        "annual_pay = monthly_pay * 12\n",
        "print('Your annual pay is $', format(annual_pay, ',.2f'), sep='')"
      ],
      "metadata": {
        "colab": {
          "base_uri": "https://localhost:8080/"
        },
        "id": "Rocia1TEGisA",
        "outputId": "2120c0e9-3b07-48c6-b33a-651e24feb1c7"
      },
      "execution_count": 36,
      "outputs": [
        {
          "output_type": "stream",
          "name": "stdout",
          "text": [
            "Your annual pay is $1,080,000,000.00\n"
          ]
        }
      ]
    },
    {
      "cell_type": "code",
      "source": [
        "#2-23 (columns.py)\n",
        "# 본 예제는 부동 소수점을 특정 너비에 맞추어 출력하는 방법에 대해 알아보자.\n",
        "# 아래와 같이 각 변수에 부동 소수점이 포함된 값을 할당한다.\n",
        "num1 = 127.899\n",
        "num2 = 3465.148\n",
        "num3 = 3.776\n",
        "num4 = 264.821\n",
        "num5 = 88.081\n",
        "num6 = 799.999\n",
        "# 7칸에 맞추어 부동 소수점이 포함된 변수 값을 출력한다.\n",
        "print(format(num1, '7.2f'))\n",
        "print(format(num2, '7.2f'))\n",
        "print(format(num3, '7.2f'))\n",
        "print(format(num4, '7.2f'))\n",
        "print(format(num5, '7.2f'))\n",
        "print(format(num6, '7.2f'))"
      ],
      "metadata": {
        "colab": {
          "base_uri": "https://localhost:8080/"
        },
        "id": "mL-s6KsfFqnB",
        "outputId": "eb51ba3d-38e9-4b5d-fd87-118e9e5590c7"
      },
      "execution_count": 30,
      "outputs": [
        {
          "output_type": "stream",
          "name": "stdout",
          "text": [
            " 127.90\n",
            "3465.15\n",
            "   3.78\n",
            " 264.82\n",
            "  88.08\n",
            " 800.00\n"
          ]
        }
      ]
    }
  ]
}