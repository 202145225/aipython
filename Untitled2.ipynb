{
  "nbformat": 4,
  "nbformat_minor": 0,
  "metadata": {
    "colab": {
      "provenance": [],
      "authorship_tag": "ABX9TyPH0tKV9Fhzbkn9wj1UgnF5",
      "include_colab_link": true
    },
    "kernelspec": {
      "name": "python3",
      "display_name": "Python 3"
    },
    "language_info": {
      "name": "python"
    }
  },
  "cells": [
    {
      "cell_type": "markdown",
      "metadata": {
        "id": "view-in-github",
        "colab_type": "text"
      },
      "source": [
        "<a href=\"https://colab.research.google.com/github/202145225/aipython/blob/main/Untitled2.ipynb\" target=\"_parent\"><img src=\"https://colab.research.google.com/assets/colab-badge.svg\" alt=\"Open In Colab\"/></a>"
      ]
    },
    {
      "cell_type": "code",
      "execution_count": 1,
      "metadata": {
        "colab": {
          "base_uri": "https://localhost:8080/"
        },
        "id": "k7D98fz9Fd-4",
        "outputId": "e0de9d06-6511-47a9-f660-2c52e5133741"
      },
      "outputs": [
        {
          "output_type": "stream",
          "name": "stdout",
          "text": [
            "부산대학교\n",
            "기초교육원\n",
            "컴퓨팅적 사고와 코딩\n"
          ]
        }
      ],
      "source": [
        "#2-1\n",
        "print('부산대학교') # '와 \"는 함께 사용 X\n",
        "print('기초교육원')\n",
        "print('컴퓨팅적 사고와 코딩')"
      ]
    },
    {
      "cell_type": "code",
      "source": [
        "#2-2\n",
        "print(\"부산대학교\") # '이든 \"이든 상관없음 \"를 더 추천\n",
        "print(\"기초교육원\")\n",
        "print(\"컴퓨팅적 사고와 코딩\")"
      ],
      "metadata": {
        "colab": {
          "base_uri": "https://localhost:8080/"
        },
        "id": "2NINTzF6GCCr",
        "outputId": "87ffe1fd-efd3-43da-8348-fdc6287c3aa0"
      },
      "execution_count": 3,
      "outputs": [
        {
          "output_type": "stream",
          "name": "stdout",
          "text": [
            "부산대학교\n",
            "기초교육원\n",
            "컴퓨팅적 사고와 코딩\n"
          ]
        }
      ]
    },
    {
      "cell_type": "code",
      "source": [
        "#2-3\n",
        "print(\"\"\"One\n",
        "Two\n",
        "Three\"\"\")"
      ],
      "metadata": {
        "colab": {
          "base_uri": "https://localhost:8080/"
        },
        "id": "5JVDTTNXFqcE",
        "outputId": "8314acaa-0039-4ef4-cda0-0cac53222e47"
      },
      "execution_count": 2,
      "outputs": [
        {
          "output_type": "stream",
          "name": "stdout",
          "text": [
            "One\n",
            "Two\n",
            "Three\n"
          ]
        }
      ]
    },
    {
      "cell_type": "markdown",
      "source": [
        "2023.12.28 (목)\n",
        "- python 사이트로 이동해 윈도우 기준에 맞는 것을 설치하면 된다.\n",
        "- 개인용 컴퓨터의 경우 한 버전의 python만 설치하는 것이 좋다.\n",
        "- 개발 환경에 따라서 코드가 실행 될 수도 있고 안될 수도 있다.\n",
        "- numpy는 내부 라이브러리로 별도의 설치 없이 사용 가능하다.\n",
        "- pandas 라이브러리/miniconda(패키지 관리 시스템)\n",
        "   -> python도 설치하고 miniconda를 설치할 필요까진 없다.  miniconda만 설치해도 충분(miniconda 안에 python 포함됨)\n"
      ],
      "metadata": {
        "id": "HS66IyR1IJsK"
      }
    },
    {
      "cell_type": "code",
      "source": [
        "#2-6\n",
        "Lab = 105\n",
        "print('우리가 수업하는 실습실:')\n",
        "print(Lab)"
      ],
      "metadata": {
        "colab": {
          "base_uri": "https://localhost:8080/"
        },
        "id": "934al3vqF__D",
        "outputId": "53136051-33dc-42c4-9892-8c52cecedb15"
      },
      "execution_count": 4,
      "outputs": [
        {
          "output_type": "stream",
          "name": "stdout",
          "text": [
            "우리가 수업하는 실습실:\n",
            "105\n"
          ]
        }
      ]
    },
    {
      "cell_type": "code",
      "source": [
        "Lab = 105\n",
        "print"
      ],
      "metadata": {
        "id": "5UN0PO49GjSL"
      },
      "execution_count": null,
      "outputs": []
    }
  ]
}